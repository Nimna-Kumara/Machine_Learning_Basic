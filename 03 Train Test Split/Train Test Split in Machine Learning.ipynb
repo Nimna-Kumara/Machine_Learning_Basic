{
 "cells": [
  {
   "cell_type": "markdown",
   "id": "9970c0f5-c772-456b-867d-5284ebc9b2c0",
   "metadata": {},
   "source": [
    "# Train Test Split in Machine Learning"
   ]
  },
  {
   "cell_type": "code",
   "execution_count": 1,
   "id": "4022638d-849e-413e-82aa-2510b798f71d",
   "metadata": {},
   "outputs": [],
   "source": [
    "import numpy as np\n",
    "from sklearn.model_selection import train_test_split"
   ]
  },
  {
   "cell_type": "code",
   "execution_count": 2,
   "id": "fb1028f3-5beb-49d6-a206-8078131f1c1f",
   "metadata": {},
   "outputs": [],
   "source": [
    "x = np.array([1,2,3,4,5,6,7,8,9,10,11,12,13,14,15,16,17,18,19,20])\n",
    "y = np.array([0,0,1,0,1,0,0,0,0,0,1,1,1,0,1,0,1,1,1,1])"
   ]
  },
  {
   "cell_type": "markdown",
   "id": "3207cf8a-a305-4eec-8337-be840b264cad",
   "metadata": {},
   "source": [
    "### split data set into Train & Test"
   ]
  },
  {
   "cell_type": "code",
   "execution_count": 10,
   "id": "34658440-c847-49fb-9ca9-e40aad296a0c",
   "metadata": {},
   "outputs": [],
   "source": [
    "x_train, x_test, y_train, y_test = train_test_split(x, y, test_size=0.2, shuffle=True)   \n",
    "\n",
    "# default test_size = 0.25 --> 25%\n",
    "\n",
    "# default shuffle = True\n",
    "\n",
    "# random_state = 5 (any int) ---> keep train, test sets same in any iteration"
   ]
  },
  {
   "cell_type": "code",
   "execution_count": 5,
   "id": "e8d200dc-1eb0-451b-b5a4-8fbcea31e7ac",
   "metadata": {},
   "outputs": [
    {
     "data": {
      "text/plain": [
       "array([10, 17, 15,  6,  2, 16, 20,  3, 13,  9,  8, 11, 19,  1, 12,  4])"
      ]
     },
     "execution_count": 5,
     "metadata": {},
     "output_type": "execute_result"
    }
   ],
   "source": [
    "x_train"
   ]
  },
  {
   "cell_type": "code",
   "execution_count": 6,
   "id": "19c4d181-7e31-467b-948d-acb47f80bdf0",
   "metadata": {},
   "outputs": [
    {
     "data": {
      "text/plain": [
       "16"
      ]
     },
     "execution_count": 6,
     "metadata": {},
     "output_type": "execute_result"
    }
   ],
   "source": [
    "len(x_train)"
   ]
  },
  {
   "cell_type": "code",
   "execution_count": 7,
   "id": "cec90df5-8a9c-4f2f-bfc8-5fc6279cdd73",
   "metadata": {},
   "outputs": [
    {
     "data": {
      "text/plain": [
       "array([ 5, 14,  7, 18])"
      ]
     },
     "execution_count": 7,
     "metadata": {},
     "output_type": "execute_result"
    }
   ],
   "source": [
    "x_test"
   ]
  },
  {
   "cell_type": "code",
   "execution_count": 8,
   "id": "ff41e978-f9e9-4d34-8f2a-81c40c08400a",
   "metadata": {},
   "outputs": [
    {
     "data": {
      "text/plain": [
       "4"
      ]
     },
     "execution_count": 8,
     "metadata": {},
     "output_type": "execute_result"
    }
   ],
   "source": [
    "len(x_test)"
   ]
  }
 ],
 "metadata": {
  "kernelspec": {
   "display_name": "Python 3 (ipykernel)",
   "language": "python",
   "name": "python3"
  },
  "language_info": {
   "codemirror_mode": {
    "name": "ipython",
    "version": 3
   },
   "file_extension": ".py",
   "mimetype": "text/x-python",
   "name": "python",
   "nbconvert_exporter": "python",
   "pygments_lexer": "ipython3",
   "version": "3.11.10"
  }
 },
 "nbformat": 4,
 "nbformat_minor": 5
}
